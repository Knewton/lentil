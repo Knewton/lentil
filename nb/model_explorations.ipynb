{
 "cells": [
  {
   "cell_type": "code",
   "execution_count": null,
   "metadata": {
    "collapsed": false
   },
   "outputs": [],
   "source": [
    "from __future__ import division\n",
    "\n",
    "import pickle\n",
    "import os\n",
    "import random\n",
    "\n",
    "from matplotlib import pyplot as plt\n",
    "import numpy as np\n",
    "\n",
    "import seaborn as sns\n",
    "sns.set_style('whitegrid')\n",
    "\n",
    "from lentil import datatools\n",
    "from lentil import models\n",
    "from lentil import est\n",
    "from lentil import evaluate\n",
    "\n",
    "%matplotlib inline"
   ]
  },
  {
   "cell_type": "code",
   "execution_count": null,
   "metadata": {
    "collapsed": true
   },
   "outputs": [],
   "source": [
    "import logging\n",
    "logging.getLogger().setLevel(logging.DEBUG)"
   ]
  },
  {
   "cell_type": "markdown",
   "metadata": {},
   "source": [
    "Load an interaction history"
   ]
  },
  {
   "cell_type": "code",
   "execution_count": null,
   "metadata": {
    "collapsed": true
   },
   "outputs": [],
   "source": [
    "history_path = os.path.join('data', 'assistments_2009_2010.pkl')"
   ]
  },
  {
   "cell_type": "code",
   "execution_count": null,
   "metadata": {
    "collapsed": false
   },
   "outputs": [],
   "source": [
    "with open(history_path, 'rb') as f:\n",
    "    history = pickle.load(f)"
   ]
  },
  {
   "cell_type": "code",
   "execution_count": null,
   "metadata": {
    "collapsed": true
   },
   "outputs": [],
   "source": [
    "df = history.data"
   ]
  },
  {
   "cell_type": "markdown",
   "metadata": {},
   "source": [
    "Train an embedding model on the interaction history and visualize the results"
   ]
  },
  {
   "cell_type": "code",
   "execution_count": null,
   "metadata": {
    "collapsed": false
   },
   "outputs": [],
   "source": [
    "embedding_dimension = 2\n",
    "\n",
    "model = models.EmbeddingModel(\n",
    "    history, \n",
    "    embedding_dimension,\n",
    "    using_prereqs=True,\n",
    "    using_lessons=True,\n",
    "    using_bias=True,\n",
    "    learning_update_variance_constant=0.5)\n",
    "\n",
    "estimator = est.EmbeddingMAPEstimator(\n",
    "    regularization_constant=1e-3,\n",
    "    using_scipy=True,\n",
    "    verify_gradient=False,\n",
    "    debug_mode_on=True,\n",
    "    ftol=1e-3)\n",
    "\n",
    "model.fit(estimator)"
   ]
  },
  {
   "cell_type": "code",
   "execution_count": null,
   "metadata": {
    "collapsed": false
   },
   "outputs": [],
   "source": [
    "print \"Training AUC = %f\" % (evaluate.training_auc(\n",
    "        model, history, plot_roc_curve=True))"
   ]
  },
  {
   "cell_type": "code",
   "execution_count": null,
   "metadata": {
    "collapsed": true
   },
   "outputs": [],
   "source": [
    "split_history = history.split_interactions_by_type()\n",
    "timestep_of_last_interaction = split_history.timestep_of_last_interaction"
   ]
  },
  {
   "cell_type": "code",
   "execution_count": null,
   "metadata": {
    "collapsed": false
   },
   "outputs": [],
   "source": [
    "NUM_STUDENTS_TO_SAMPLE = 10\n",
    "for student_id in random.sample(df['student_id'].unique(), NUM_STUDENTS_TO_SAMPLE):\n",
    "    student_idx = history.idx_of_student_id(student_id)\n",
    "\n",
    "    timesteps = range(1, timestep_of_last_interaction[student_id]+1)\n",
    "\n",
    "    for i in xrange(model.embedding_dimension):\n",
    "        plt.plot(timesteps, model.student_embeddings[student_idx, i, timesteps], \n",
    "                 label='Skill %d' % (i+1))\n",
    "    \n",
    "    norms = np.linalg.norm(model.student_embeddings[student_idx, :, timesteps], axis=1)\n",
    "    plt.plot(timesteps, norms, label='norm')\n",
    "    \n",
    "    plt.title('student_id = %s' % student_id)\n",
    "    plt.xlabel('Timestep')\n",
    "    plt.ylabel('Skill')\n",
    "    plt.legend(loc='upper right')\n",
    "    plt.show()"
   ]
  },
  {
   "cell_type": "code",
   "execution_count": null,
   "metadata": {
    "collapsed": false
   },
   "outputs": [],
   "source": [
    "assessment_norms = np.linalg.norm(model.assessment_embeddings, axis=1)\n",
    "\n",
    "plt.xlabel('Assessment embedding norm')\n",
    "plt.ylabel('Frequency (number of assessments)')\n",
    "plt.hist(assessment_norms, bins=20)\n",
    "plt.show()"
   ]
  },
  {
   "cell_type": "code",
   "execution_count": null,
   "metadata": {
    "collapsed": true
   },
   "outputs": [],
   "source": [
    "def get_pass_rates(grouped):\n",
    "    \"\"\"\n",
    "    Get pass rate for each group\n",
    "    \n",
    "    :param pd.GroupBy grouped: A grouped dataframe\n",
    "    :rtype: dict[str, float]\n",
    "    :return: A dictionary mapping group name to pass rate\n",
    "    \"\"\"\n",
    "    pass_rates = {}\n",
    "    for name, group in grouped:\n",
    "        vc = group['outcome'].value_counts()\n",
    "        if True not in vc:\n",
    "            pass_rates[name] = 0\n",
    "        else:\n",
    "            pass_rates[name] = vc[True] / len(group)\n",
    "    return pass_rates"
   ]
  },
  {
   "cell_type": "code",
   "execution_count": null,
   "metadata": {
    "collapsed": false
   },
   "outputs": [],
   "source": [
    "grouped = df[df['module_type']==datatools.AssessmentInteraction.MODULETYPE].groupby('module_id')\n",
    "pass_rates = get_pass_rates(grouped)\n",
    "\n",
    "assessment_norms = [np.linalg.norm(model.assessment_embeddings[history.idx_of_assessment_id(assessment_id), :]) for assessment_id in pass_rates]\n",
    "\n",
    "plt.xlabel('Assessment pass rate')\n",
    "plt.ylabel('Assessment embedding norm')\n",
    "plt.scatter(pass_rates.values(), assessment_norms)\n",
    "plt.show()"
   ]
  },
  {
   "cell_type": "code",
   "execution_count": null,
   "metadata": {
    "collapsed": false
   },
   "outputs": [],
   "source": [
    "grouped = df[df['module_type']==datatools.AssessmentInteraction.MODULETYPE].groupby('module_id')\n",
    "pass_rates = get_pass_rates(grouped)\n",
    "\n",
    "bias_minus_norm = [model.assessment_biases[history.idx_of_assessment_id(\n",
    "            assessment_id)] - np.linalg.norm(\n",
    "        model.assessment_embeddings[history.idx_of_assessment_id(\n",
    "                assessment_id), :]) for assessment_id in pass_rates]\n",
    "\n",
    "plt.xlabel('Assessment pass rate')\n",
    "plt.ylabel('Assessment bias - Assessment embedding norm')\n",
    "plt.scatter(pass_rates.values(), bias_minus_norm)\n",
    "plt.show()"
   ]
  },
  {
   "cell_type": "code",
   "execution_count": null,
   "metadata": {
    "collapsed": false
   },
   "outputs": [],
   "source": [
    "grouped = df[df['module_type']==datatools.AssessmentInteraction.MODULETYPE].groupby('student_id')\n",
    "pass_rates = get_pass_rates(grouped)\n",
    "\n",
    "biases = [model.student_biases[history.idx_of_student_id(\n",
    "            student_id)] for student_id in pass_rates]\n",
    "\n",
    "plt.xlabel('Student pass rate')\n",
    "plt.ylabel('Student bias')\n",
    "plt.scatter(pass_rates.values(), biases)\n",
    "plt.show()"
   ]
  },
  {
   "cell_type": "code",
   "execution_count": null,
   "metadata": {
    "collapsed": false
   },
   "outputs": [],
   "source": [
    "lesson_norms = np.linalg.norm(model.lesson_embeddings, axis=1)\n",
    "\n",
    "plt.xlabel('Lesson embedding norm')\n",
    "plt.ylabel('Frequency (number of lessons)')\n",
    "plt.hist(lesson_norms, bins=20)\n",
    "plt.show()"
   ]
  },
  {
   "cell_type": "code",
   "execution_count": null,
   "metadata": {
    "collapsed": false
   },
   "outputs": [],
   "source": [
    "prereq_norms = np.linalg.norm(model.prereq_embeddings, axis=1)\n",
    "\n",
    "plt.xlabel('Prereq embedding norm')\n",
    "plt.ylabel('Frequency (number of lessons)')\n",
    "plt.hist(prereq_norms, bins=20)\n",
    "plt.show()"
   ]
  },
  {
   "cell_type": "code",
   "execution_count": null,
   "metadata": {
    "collapsed": false
   },
   "outputs": [],
   "source": [
    "plt.xlabel('Lesson embedding norm')\n",
    "plt.ylabel('Prereq embedding norm')\n",
    "plt.scatter(prereq_norms, lesson_norms)\n",
    "plt.show()"
   ]
  },
  {
   "cell_type": "code",
   "execution_count": null,
   "metadata": {
    "collapsed": false
   },
   "outputs": [],
   "source": [
    "timesteps = range(model.student_embeddings.shape[2])\n",
    "avg_student_norms = np.array(np.linalg.norm(np.mean(model.student_embeddings, axis=0), axis=0))\n",
    "\n",
    "plt.xlabel('Timestep')\n",
    "plt.ylabel('Average student embedding norm')\n",
    "plt.plot(timesteps, avg_student_norms)\n",
    "plt.show()"
   ]
  },
  {
   "cell_type": "code",
   "execution_count": null,
   "metadata": {
    "collapsed": true
   },
   "outputs": [],
   "source": []
  }
 ],
 "metadata": {
  "kernelspec": {
   "display_name": "Python 2",
   "language": "python",
   "name": "python2"
  },
  "language_info": {
   "codemirror_mode": {
    "name": "ipython",
    "version": 2
   },
   "file_extension": ".py",
   "mimetype": "text/x-python",
   "name": "python",
   "nbconvert_exporter": "python",
   "pygments_lexer": "ipython2",
   "version": "2.7.10"
  }
 },
 "nbformat": 4,
 "nbformat_minor": 0
}
